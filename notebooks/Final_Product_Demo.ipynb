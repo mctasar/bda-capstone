{
  "nbformat": 4,
  "nbformat_minor": 0,
  "metadata": {
    "colab": {
      "provenance": []
    },
    "kernelspec": {
      "name": "python3",
      "display_name": "Python 3"
    },
    "language_info": {
      "name": "python"
    }
  },
  "cells": [
    {
      "cell_type": "code",
      "execution_count": 1,
      "metadata": {
        "colab": {
          "base_uri": "https://localhost:8080/"
        },
        "id": "eaHk2XCDWXjJ",
        "outputId": "49bc84bd-dee4-476f-bf0d-d3edba2da452"
      },
      "outputs": [
        {
          "output_type": "stream",
          "name": "stdout",
          "text": [
            "Looking in indexes: https://pypi.org/simple, https://us-python.pkg.dev/colab-wheels/public/simple/\n",
            "Requirement already satisfied: qrcode[pil] in /usr/local/lib/python3.7/dist-packages (7.3.1)\n",
            "Requirement already satisfied: pillow in /usr/local/lib/python3.7/dist-packages (from qrcode[pil]) (7.1.2)\n"
          ]
        }
      ],
      "source": [
        "!pip install qrcode[pil]"
      ]
    },
    {
      "cell_type": "code",
      "source": [
        "!pip install Spotipy"
      ],
      "metadata": {
        "colab": {
          "base_uri": "https://localhost:8080/"
        },
        "id": "94I_73QXWeWR",
        "outputId": "81504975-973b-440e-ec83-c0996168cea2"
      },
      "execution_count": 2,
      "outputs": [
        {
          "output_type": "stream",
          "name": "stdout",
          "text": [
            "Looking in indexes: https://pypi.org/simple, https://us-python.pkg.dev/colab-wheels/public/simple/\n",
            "Requirement already satisfied: Spotipy in /usr/local/lib/python3.7/dist-packages (2.20.0)\n",
            "Requirement already satisfied: six>=1.15.0 in /usr/local/lib/python3.7/dist-packages (from Spotipy) (1.15.0)\n",
            "Requirement already satisfied: requests>=2.25.0 in /usr/local/lib/python3.7/dist-packages (from Spotipy) (2.28.1)\n",
            "Requirement already satisfied: redis>=3.5.3 in /usr/local/lib/python3.7/dist-packages (from Spotipy) (4.3.4)\n",
            "Requirement already satisfied: urllib3>=1.26.0 in /usr/local/lib/python3.7/dist-packages (from Spotipy) (1.26.12)\n",
            "Requirement already satisfied: typing-extensions in /usr/local/lib/python3.7/dist-packages (from redis>=3.5.3->Spotipy) (4.1.1)\n",
            "Requirement already satisfied: importlib-metadata>=1.0 in /usr/local/lib/python3.7/dist-packages (from redis>=3.5.3->Spotipy) (4.12.0)\n",
            "Requirement already satisfied: packaging>=20.4 in /usr/local/lib/python3.7/dist-packages (from redis>=3.5.3->Spotipy) (21.3)\n",
            "Requirement already satisfied: deprecated>=1.2.3 in /usr/local/lib/python3.7/dist-packages (from redis>=3.5.3->Spotipy) (1.2.13)\n",
            "Requirement already satisfied: async-timeout>=4.0.2 in /usr/local/lib/python3.7/dist-packages (from redis>=3.5.3->Spotipy) (4.0.2)\n",
            "Requirement already satisfied: wrapt<2,>=1.10 in /usr/local/lib/python3.7/dist-packages (from deprecated>=1.2.3->redis>=3.5.3->Spotipy) (1.14.1)\n",
            "Requirement already satisfied: zipp>=0.5 in /usr/local/lib/python3.7/dist-packages (from importlib-metadata>=1.0->redis>=3.5.3->Spotipy) (3.8.1)\n",
            "Requirement already satisfied: pyparsing!=3.0.5,>=2.0.2 in /usr/local/lib/python3.7/dist-packages (from packaging>=20.4->redis>=3.5.3->Spotipy) (3.0.9)\n",
            "Requirement already satisfied: idna<4,>=2.5 in /usr/local/lib/python3.7/dist-packages (from requests>=2.25.0->Spotipy) (2.10)\n",
            "Requirement already satisfied: charset-normalizer<3,>=2 in /usr/local/lib/python3.7/dist-packages (from requests>=2.25.0->Spotipy) (2.1.1)\n",
            "Requirement already satisfied: certifi>=2017.4.17 in /usr/local/lib/python3.7/dist-packages (from requests>=2.25.0->Spotipy) (2022.6.15)\n"
          ]
        }
      ]
    },
    {
      "cell_type": "code",
      "source": [
        "from google.colab import drive\n",
        "drive.mount('/content/drive')"
      ],
      "metadata": {
        "colab": {
          "base_uri": "https://localhost:8080/"
        },
        "id": "Rs_96t6DWfxG",
        "outputId": "574b7ab2-3933-48ba-baaf-2a3775cd5cd2"
      },
      "execution_count": 3,
      "outputs": [
        {
          "output_type": "stream",
          "name": "stdout",
          "text": [
            "Drive already mounted at /content/drive; to attempt to forcibly remount, call drive.mount(\"/content/drive\", force_remount=True).\n"
          ]
        }
      ]
    },
    {
      "cell_type": "code",
      "source": [
        "import sys\n",
        "\n",
        "sys.path.insert(0, '/content/drive/MyDrive/BDA_CAPSTONE/01_Gathering_Data/02_Notebooks/00_Library')\n",
        "import bdacapstone as bda"
      ],
      "metadata": {
        "id": "qAg_tYviWhLw"
      },
      "execution_count": 4,
      "outputs": []
    },
    {
      "cell_type": "code",
      "source": [
        "connection = bda.connect_Spotify(playlist_creator_mode=True)"
      ],
      "metadata": {
        "id": "aa0plb-HWnnY"
      },
      "execution_count": 5,
      "outputs": []
    },
    {
      "cell_type": "code",
      "source": [
        "bda.create_playlist(sp=connection,\n",
        "                    playlist_name='Beethoven Recommendations',\n",
        "                    search_term='Beethoven',\n",
        "                    search_term_type='artist',\n",
        "                    search_term_limit=5,\n",
        "                    use_clusters=True,\n",
        "                    return_n_recommendations=15,\n",
        "                    return_qrcode=True)"
      ],
      "metadata": {
        "colab": {
          "base_uri": "https://localhost:8080/",
          "height": 811
        },
        "id": "XRwmZmTyXCJ4",
        "outputId": "ee5daa10-90fe-49d9-b14c-8ce472a7af35"
      },
      "execution_count": 6,
      "outputs": [
        {
          "output_type": "stream",
          "name": "stdout",
          "text": [
            "Beethoven Recommendations playlist has been created.\n",
            "1 / 5\n",
            "2 / 5\n",
            "3 / 5\n",
            "4 / 5\n",
            "5 / 5\n",
            "Tracks have been gathered for the search term Beethoven under the category of artist.\n",
            "Pickle read from /content/drive/MyDrive/BDA_CAPSTONE/02_Model_Pickles/01_KMeans/first_clustering.pkl.\n",
            "Cluster number 31 out of 50 is being clustered...\n",
            "Pickle read from /content/drive/MyDrive/BDA_CAPSTONE/02_Model_Pickles/01_KMeans/second_clustering_31.pkl.\n",
            "Cluster number 34 out of 50 is being clustered...\n",
            "Pickle read from /content/drive/MyDrive/BDA_CAPSTONE/02_Model_Pickles/01_KMeans/second_clustering_34.pkl.\n",
            "Tracks have been clustered.\n",
            "Recommending to each gathered track...\n",
            "0 5\n",
            "1 5\n",
            "2 5\n",
            "3 5\n",
            "4 5\n",
            "Recommended tracks are added to the playlist Beethoven Recommendations.\n",
            "Recommended tracks have been added to the playlist. Use the QR Code to go to the playlist.\n"
          ]
        },
        {
          "output_type": "execute_result",
          "data": {
            "text/plain": [
              "<qrcode.image.pil.PilImage at 0x7f3c21430450>"
            ],
            "image/png": "[encoded data removed]"
          },
          "metadata": {},
          "execution_count": 6
        }
      ]
    }
  ]
}